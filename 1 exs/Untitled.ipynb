{
 "cells": [
  {
   "cell_type": "code",
   "execution_count": 13,
   "metadata": {},
   "outputs": [
    {
     "data": {
      "text/plain": [
       "'люк я твой отец люк'"
      ]
     },
     "execution_count": 13,
     "metadata": {},
     "output_type": "execute_result"
    }
   ],
   "source": [
    "a = \"люк я твой отец люк\"\n",
    "a\n"
   ]
  },
  {
   "cell_type": "code",
   "execution_count": 6,
   "metadata": {},
   "outputs": [],
   "source": [
    "a = multiset()"
   ]
  },
  {
   "cell_type": "code",
   "execution_count": 10,
   "metadata": {},
   "outputs": [],
   "source": [
    "import collections"
   ]
  },
  {
   "cell_type": "code",
   "execution_count": 28,
   "metadata": {},
   "outputs": [],
   "source": [
    "def check_first_sentence_is_second(s1, s2):\n",
    "    import collections\n",
    "    c1 = collections.Counter()\n",
    "    c2 = collections.Counter()\n",
    "    for word in s1.split():\n",
    "        c1[word] += 1\n",
    "    for word in s2.split():\n",
    "        c2[word] += 1\n",
    "    c1.subtract(c2)\n",
    "    for word in c1:\n",
    "        if c1[word] < 0:\n",
    "            return False\n",
    "    return True"
   ]
  },
  {
   "cell_type": "code",
   "execution_count": 38,
   "metadata": {},
   "outputs": [
    {
     "data": {
      "text/plain": [
       "True"
      ]
     },
     "execution_count": 38,
     "metadata": {},
     "output_type": "execute_result"
    }
   ],
   "source": [
    "check_first_sentence_is_second(\"люк я твой отец люк           \", \"       люк                 я твой отец люк\")"
   ]
  },
  {
   "cell_type": "code",
   "execution_count": 15,
   "metadata": {},
   "outputs": [
    {
     "data": {
      "text/plain": [
       "'люк я твой отец люк'"
      ]
     },
     "execution_count": 15,
     "metadata": {},
     "output_type": "execute_result"
    }
   ],
   "source": []
  },
  {
   "cell_type": "code",
   "execution_count": 50,
   "metadata": {},
   "outputs": [],
   "source": [
    "def find_word_in_circle(circle, word):\n",
    "    circle_len = len(circle)\n",
    "    if circle_len == 0:\n",
    "        return -1\n",
    "    circle = circle * (len(word)//circle_len + 2)\n",
    "    for i in range(circle_len):\n",
    "        if circle.startswith(word, i):\n",
    "            return i, 1\n",
    "    circle = circle[::-1]\n",
    "    for i in range(circle_len):\n",
    "        if circle.startswith(word, i):\n",
    "            return circle_len - i - 1, -1\n",
    "    return -1\n"
   ]
  },
  {
   "cell_type": "code",
   "execution_count": 52,
   "metadata": {},
   "outputs": [
    {
     "data": {
      "text/plain": [
       "-1"
      ]
     },
     "execution_count": 52,
     "metadata": {},
     "output_type": "execute_result"
    }
   ],
   "source": [
    "find_word_in_circle(\"\", \"parparparparp\")"
   ]
  },
  {
   "cell_type": "code",
   "execution_count": 64,
   "metadata": {},
   "outputs": [],
   "source": [
    "def find_max_substring_occurrence(input_string):\n",
    "    for i in range(len(input_string),0,-1):\n",
    "        if (len(input_string) % i == 0):\n",
    "            s = input_string[:len(input_string)//i] * i\n",
    "            if s == input_string:\n",
    "                return i\n"
   ]
  },
  {
   "cell_type": "code",
   "execution_count": 72,
   "metadata": {},
   "outputs": [
    {
     "data": {
      "text/plain": [
       "2"
      ]
     },
     "execution_count": 72,
     "metadata": {},
     "output_type": "execute_result"
    }
   ],
   "source": [
    "find_max_substring_occurrence(\"aaabaaab\")"
   ]
  },
  {
   "cell_type": "code",
   "execution_count": 119,
   "metadata": {},
   "outputs": [],
   "source": [
    "def get_new_dictionary(input_dict_name, output_dict_name):\n",
    "    import collections\n",
    "    f_input = open(input_dict_name, \"r\")\n",
    "    n = int(f_input.readline())\n",
    "    new_dict = collections.defaultdict(list)\n",
    "    for i in range(n):\n",
    "        s = f_input.readline().strip()\n",
    "        s = \"\".join(s.split())\n",
    "        s = s.split(\"-\")\n",
    "        human_word = s[0]\n",
    "        drag_word = s[1].split(\",\")\n",
    "        for word in drag_word:\n",
    "            new_dict[word].append(human_word)\n",
    "    word_list = list(new_dict)\n",
    "    word_list.sort()\n",
    "    with open(output_dict_name, \"w\") as out_f:\n",
    "        out_f.write(str(len(word_list)) + \"\\n\")\n",
    "        for word in word_list:\n",
    "            out_f.write(word + \" - \"\n",
    "                        + \", \".join(sorted(new_dict[word])) + \"\\n\")\n",
    "    f_input.close()"
   ]
  },
  {
   "cell_type": "code",
   "execution_count": 120,
   "metadata": {},
   "outputs": [],
   "source": [
    "get_new_dictionary(\"input.txt\", \"output.txt\")"
   ]
  },
  {
   "cell_type": "code",
   "execution_count": null,
   "metadata": {},
   "outputs": [],
   "source": []
  }
 ],
 "metadata": {
  "kernelspec": {
   "display_name": "Python 3",
   "language": "python",
   "name": "python3"
  },
  "language_info": {
   "codemirror_mode": {
    "name": "ipython",
    "version": 3
   },
   "file_extension": ".py",
   "mimetype": "text/x-python",
   "name": "python",
   "nbconvert_exporter": "python",
   "pygments_lexer": "ipython3",
   "version": "3.7.1"
  }
 },
 "nbformat": 4,
 "nbformat_minor": 2
}
