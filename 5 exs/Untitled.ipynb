{
 "cells": [
  {
   "cell_type": "code",
   "execution_count": 1,
   "metadata": {},
   "outputs": [],
   "source": [
    "def encode_rle(x):\n",
    "    import numpy as np\n",
    "    x_shift = np.roll(x, 1)\n",
    "    mask = x_shift != x\n",
    "    mask[0] = True\n",
    "    unique_num = x[mask]\n",
    "    ind_start = np.where(mask)[0]\n",
    "    ind_end = np.roll(ind_start, -1)\n",
    "    ind_end[-1] = x.size \n",
    "    unique_len = ind_end - ind_start\n",
    "    return (unique_num, unique_len)"
   ]
  },
  {
   "cell_type": "code",
   "execution_count": 101,
   "metadata": {},
   "outputs": [],
   "source": [
    "import numpy as np\n",
    "\n",
    "class RleSequence:\n",
    "    \n",
    "    def __init__(self, input_sequence):\n",
    "        self.size = input_sequence.size\n",
    "        self.num_, self.len_ = encode_rle(input_sequence)\n",
    "        \n",
    "    def __getitem__(self, item):\n",
    "        if isinstance(item, slice):\n",
    "            now = item.start\n",
    "            stop = item.stop\n",
    "            step = item.step\n",
    "            if step == None:\n",
    "                step = 1\n",
    "            if now == None:\n",
    "                now = 0\n",
    "            if stop == None:\n",
    "                stop = self.size\n",
    "            if now < 0:\n",
    "                now = self.size + now\n",
    "            if stop < 0:\n",
    "                stop = self.size + stop\n",
    "            if now >= self.size or now < 0:\n",
    "                raise IndexError\n",
    "            stop = min(stop, self.size)\n",
    "            \n",
    "            ans = np.arange(now, stop, step, dtype=self.num_.dtype)\n",
    "            i_num = 0\n",
    "            cur_len = self.len_[0]\n",
    "            \n",
    "            for i in range(ans.size):\n",
    "                while ans[i] >= cur_len:\n",
    "                    i_num += 1\n",
    "                    cur_len += self.len_[i_num]\n",
    "                ans[i] = self.num_[i_num]\n",
    "                now += step\n",
    "                \n",
    "            return ans\n",
    "                    \n",
    "        else:\n",
    "            if item < 0:\n",
    "                item = self.size + item\n",
    "            if item >= self.size or item < 0:\n",
    "                raise IndexError\n",
    "            cur_len = 0\n",
    "            for i_num in range(self.len_.size):\n",
    "                cur_len += self.len_[i_num]\n",
    "                if item < cur_len:\n",
    "                    return self.num_[i_num]\n",
    "                \n",
    "    def __iter__(self):\n",
    "        self.i_ = 0\n",
    "        self.i_num_ = 0\n",
    "        return self\n",
    "    \n",
    "    def __next__(self):\n",
    "        if self.i_num_ == self.num_.size:\n",
    "            raise StopIteration\n",
    "        ans = self.num_[self.i_num_]\n",
    "        self.i_ += 1\n",
    "        if self.len_[self.i_num_] == self.i_:\n",
    "            self.i_num_ += 1\n",
    "            self.i_ = 0\n",
    "        return ans\n",
    "    \n",
    "    def __contains__(self, item):\n",
    "        return np.any(self.num_ == item)\n"
   ]
  },
  {
   "cell_type": "code",
   "execution_count": 102,
   "metadata": {},
   "outputs": [],
   "source": [
    "rle_seq = RleSequence(np.array([1, 1, 2, 2, 3, 4, 5]))"
   ]
  },
  {
   "cell_type": "code",
   "execution_count": 103,
   "metadata": {},
   "outputs": [
    {
     "data": {
      "text/plain": [
       "array([2, 3, 4])"
      ]
     },
     "execution_count": 103,
     "metadata": {},
     "output_type": "execute_result"
    }
   ],
   "source": [
    "rle_seq[-4: 6: 1]"
   ]
  },
  {
   "cell_type": "code",
   "execution_count": 104,
   "metadata": {},
   "outputs": [
    {
     "name": "stdout",
     "output_type": "stream",
     "text": [
      "[2 1]\n",
      "[2 0 2 0 0 3 2]\n",
      "[0 2 0 0 3 2 0 2 1]\n",
      "[0 2 0]\n",
      "[0 3]\n",
      "[]\n"
     ]
    }
   ],
   "source": [
    "rle_seq = RleSequence(np.array([2, 2, 3, 1, 0, 2, 0, 2, 1, 0, 0, 0,\n",
    "                                1, 0, 1, 2, 3, 0, 1, 2, 1, 3, 0,\n",
    "                                2, 3, 2, 1, 1, 1, 0]))\n",
    "print(rle_seq[1:5:2])\n",
    "print(rle_seq[1:20:3])\n",
    "print(rle_seq[4:29:3])\n",
    "print(rle_seq[4:7:1])\n",
    "print(rle_seq[17:22:4])\n",
    "print(rle_seq[2:2:1])"
   ]
  },
  {
   "cell_type": "code",
   "execution_count": 105,
   "metadata": {},
   "outputs": [
    {
     "name": "stdout",
     "output_type": "stream",
     "text": [
      "[2 3 1 0]\n",
      "[2 3 1 0 2 0 2 1 0 0 0 1 0 1 2 3 0 1 2]\n",
      "[0 2 0 2 1 0 0 0 1 0 1 2 3 0 1 2 1 3 0 2 3 2 1 1 1]\n",
      "[0 2 0]\n",
      "[0 1 2 1 3]\n",
      "[]\n"
     ]
    }
   ],
   "source": [
    "rle_seq = RleSequence(np.array([2, 2, 3, 1, 0, 2, 0, 2, 1, 0, 0, 0,\n",
    "                                1, 0, 1, 2, 3, 0, 1, 2, 1, 3, 0,\n",
    "                                2, 3, 2, 1, 1, 1, 0]))\n",
    "print(rle_seq[1:5:])\n",
    "print(rle_seq[1:20:])\n",
    "print(rle_seq[4:29:])\n",
    "print(rle_seq[4:7:])\n",
    "print(rle_seq[17:22:])\n",
    "print(rle_seq[2:2:])"
   ]
  },
  {
   "cell_type": "code",
   "execution_count": 106,
   "metadata": {},
   "outputs": [
    {
     "name": "stdout",
     "output_type": "stream",
     "text": [
      "[2 1 2 2 0 0 0 2 0 2 3 2 2 1 0]\n",
      "[2 0 2 0 0 3 2 0 2 1]\n",
      "[0 2 0 0 3 2 0 2 1]\n",
      "[0 2 0 2 1 0 0 0 1 0 1 2 3 0 1 2 1 3 0 2 3 2 1 1 1 0]\n",
      "[0 3 2 0]\n",
      "[3 1 0 2 0 2 1 0 0 0 1 0 1 2 3 0 1 2 1 3 0 2 3 2 1 1 1 0]\n"
     ]
    }
   ],
   "source": [
    "rle_seq = RleSequence(np.array([2, 2, 3, 1, 0, 2, 0, 2, 1, 0, 0, 0,\n",
    "                                1, 0, 1, 2, 3, 0, 1, 2, 1, 3, 0,\n",
    "                                2, 3, 2, 1, 1, 1, 0]))\n",
    "print(rle_seq[1::2])\n",
    "print(rle_seq[1::3])\n",
    "print(rle_seq[4::3])\n",
    "print(rle_seq[4::1])\n",
    "print(rle_seq[17::4])\n",
    "print(rle_seq[2::1])"
   ]
  },
  {
   "cell_type": "code",
   "execution_count": 107,
   "metadata": {},
   "outputs": [
    {
     "name": "stdout",
     "output_type": "stream",
     "text": [
      "1\n",
      "1\n",
      "2\n",
      "1\n",
      "2\n",
      "2\n",
      "3\n",
      "3\n"
     ]
    }
   ],
   "source": [
    "rle_seq = RleSequence(np.array([1, 1, 2, 1, 2, 2, 3, 3]))\n",
    "for i in range(8):\n",
    "    print(rle_seq[i])"
   ]
  },
  {
   "cell_type": "code",
   "execution_count": 108,
   "metadata": {},
   "outputs": [
    {
     "name": "stdout",
     "output_type": "stream",
     "text": [
      "452902\n",
      "Wall time: 2.46 s\n"
     ]
    }
   ],
   "source": [
    "%%time\n",
    "np.random.seed(32)\n",
    "tmp_array = np.random.randint(0, 3, 10 ** 6)\n",
    "\n",
    "rle_seq = RleSequence(tmp_array)\n",
    "\n",
    "sum_elements = 0\n",
    "tmp = rle_seq[1:905005:2]\n",
    "print(np.sum(tmp))"
   ]
  },
  {
   "cell_type": "code",
   "execution_count": 134,
   "metadata": {},
   "outputs": [],
   "source": [
    "from collections.abc import Iterable\n",
    "\n",
    "class linearize:\n",
    "    \n",
    "    def __init__(self, sequence):\n",
    "        self.len = len(sequence)\n",
    "        self.iter = iter(sequence)\n",
    "        \n",
    "    def __iter__(self):\n",
    "        self.subiter = None\n",
    "        return self\n",
    "    \n",
    "    def __next__(self):\n",
    "        while (1):\n",
    "            if self.subiter == None:\n",
    "                element = next(self.iter)\n",
    "                if not (isinstance(element, str) and len(element) < 2) and isinstance(element, Iterable):\n",
    "                    self.subiter = iter(linearize(element))\n",
    "                else:\n",
    "                    return element\n",
    "\n",
    "            # subiter != None\n",
    "\n",
    "            try:\n",
    "                element = next(self.subiter)\n",
    "                return element\n",
    "            except StopIteration:\n",
    "                self.subiter = None\n"
   ]
  },
  {
   "cell_type": "code",
   "execution_count": 17,
   "metadata": {},
   "outputs": [],
   "source": [
    "import numpy as np\n",
    "\n",
    "def get_indices(sequence, indices):\n",
    "    if isinstance(sequence, list):\n",
    "        return [sequence[i] for i in indices]\n",
    "    return sequence[indices]\n",
    "\n",
    "def BatchGenerator(list_of_sequences, batch_size, shuffle=False):\n",
    "    if len(list_of_sequences) != 0:\n",
    "        length = len(list_of_sequences[0])\n",
    "        if shuffle:\n",
    "            indices_permutation = np.random.permutation(length)\n",
    "        else:\n",
    "            indices_permutation = np.arange(length)\n",
    "        for j in range(0, length, batch_size):\n",
    "            indices = indices_permutation[j:j+batch_size]\n",
    "            yield [get_indices(seq, indices) for seq in list_of_sequences]"
   ]
  },
  {
   "cell_type": "code",
   "execution_count": 22,
   "metadata": {},
   "outputs": [],
   "source": [
    "bg = BatchGenerator(list_of_sequences=[[1, 2, 3, 5, 1, 'a'], [0, 0, 1, 1, 0, 1]], batch_size=4, shuffle=True)"
   ]
  },
  {
   "cell_type": "code",
   "execution_count": 23,
   "metadata": {},
   "outputs": [
    {
     "name": "stdout",
     "output_type": "stream",
     "text": [
      "[['a', 1, 1, 5], [1, 0, 0, 1]]\n",
      "[[2, 3], [0, 1]]\n"
     ]
    }
   ],
   "source": [
    "for elem in bg:\n",
    "    print(elem)"
   ]
  },
  {
   "cell_type": "code",
   "execution_count": 24,
   "metadata": {},
   "outputs": [],
   "source": [
    "def WordContextGenerator(words, window_size):\n",
    "    length = len(words)\n",
    "    for i in range(length):\n",
    "        begin = max(0, i - window_size) \n",
    "        end = min(length, i + window_size + 1)\n",
    "        for j in range(begin, end):\n",
    "            if i != j:\n",
    "                yield words[i], words[j]"
   ]
  },
  {
   "cell_type": "code",
   "execution_count": 25,
   "metadata": {},
   "outputs": [],
   "source": [
    "s = ['мама', \"очень\", \"хорошо\", \"мыла\", \"красивую\", \"раму\"]\n"
   ]
  },
  {
   "cell_type": "code",
   "execution_count": 26,
   "metadata": {},
   "outputs": [
    {
     "name": "stdout",
     "output_type": "stream",
     "text": [
      "('мама', 'очень')\n",
      "('мама', 'хорошо')\n",
      "('очень', 'мама')\n",
      "('очень', 'хорошо')\n",
      "('очень', 'мыла')\n",
      "('хорошо', 'мама')\n",
      "('хорошо', 'очень')\n",
      "('хорошо', 'мыла')\n",
      "('хорошо', 'красивую')\n",
      "('мыла', 'очень')\n",
      "('мыла', 'хорошо')\n",
      "('мыла', 'красивую')\n",
      "('мыла', 'раму')\n",
      "('красивую', 'хорошо')\n",
      "('красивую', 'мыла')\n",
      "('красивую', 'раму')\n",
      "('раму', 'мыла')\n",
      "('раму', 'красивую')\n"
     ]
    }
   ],
   "source": [
    "for elem in WordContextGenerator(s, 2):\n",
    "    print(elem)"
   ]
  }
 ],
 "metadata": {
  "kernelspec": {
   "display_name": "Python 3",
   "language": "python",
   "name": "python3"
  },
  "language_info": {
   "codemirror_mode": {
    "name": "ipython",
    "version": 3
   },
   "file_extension": ".py",
   "mimetype": "text/x-python",
   "name": "python",
   "nbconvert_exporter": "python",
   "pygments_lexer": "ipython3",
   "version": "3.7.1"
  }
 },
 "nbformat": 4,
 "nbformat_minor": 2
}
