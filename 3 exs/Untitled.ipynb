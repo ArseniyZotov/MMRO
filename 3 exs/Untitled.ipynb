{
 "cells": [
  {
   "cell_type": "code",
   "execution_count": 1,
   "metadata": {},
   "outputs": [],
   "source": [
    "class Polynomial:\n",
    "    \n",
    "    def __init__(self, *args):\n",
    "        self.coefs = args\n",
    "        \n",
    "    def __call__(self, x):\n",
    "        ans = 0\n",
    "        extent_x = 1\n",
    "        for coef in self.coefs:\n",
    "            ans += coef * extent_x\n",
    "            extent_x *= x\n",
    "        return ans\n",
    "    "
   ]
  },
  {
   "cell_type": "code",
   "execution_count": 3,
   "metadata": {},
   "outputs": [
    {
     "name": "stdout",
     "output_type": "stream",
     "text": [
      "30\n"
     ]
    }
   ],
   "source": [
    "my_polynom = Polynomial(2, 3, 1)\n",
    "\n",
    "print(my_polynom(4))"
   ]
  },
  {
   "cell_type": "code",
   "execution_count": 23,
   "metadata": {},
   "outputs": [],
   "source": [
    "# Храню rows, cols, values отдельно\n",
    "\n",
    "class CooSparseMatrix:\n",
    "    \n",
    "    def __init__(self, ijx_list, shape):\n",
    "        if len(shape) != 2:\n",
    "            raise TypeError()\n",
    "        for ijx in ijx_list:\n",
    "            if len(ijx) != 3 or ijx[0] >= shape[0] or \\\n",
    "                ijx[1] >= shape[1] or ijx[0] < 0 or ijx[1] < 0:\n",
    "                raise TypeError()\n",
    "        ijx_list.sort()\n",
    "        for i in range(len(ijx_list) - 1):\n",
    "            if ijx_list[i][:2] == ijx_list[i+1][:2]:\n",
    "                raise TypeError()\n",
    "        self.rows = ijx_list[0]\n",
    "        self.cols = ijx_list[1]\n",
    "        self.values = ijx_list[2]\n",
    "        self.shape = shape\n",
    "        \n",
    "    def __getitem__(self, *item):\n",
    "        if len(item) == 1:\n",
    "            if item >= shape[0]:\n",
    "                raise TypeError()\n",
    "            ijx_list = [x for x in zip(self.rows, self.cols, self.values) if x[0] == item]\n",
    "            return CooSparseMatrix(ijx_list, (1, shape[1]))\n",
    "        \n",
    "        if len(item) == 2:\n",
    "            "
   ]
  },
  {
   "cell_type": "code",
   "execution_count": 11,
   "metadata": {},
   "outputs": [
    {
     "ename": "TypeError",
     "evalue": "type object argument after * must be an iterable, not NoneType",
     "output_type": "error",
     "traceback": [
      "\u001b[1;31m---------------------------------------------------------------------------\u001b[0m",
      "\u001b[1;31mTypeError\u001b[0m                                 Traceback (most recent call last)",
      "\u001b[1;32m<ipython-input-11-d29284779762>\u001b[0m in \u001b[0;36m<module>\u001b[1;34m\u001b[0m\n\u001b[0;32m      1\u001b[0m \u001b[0mX\u001b[0m \u001b[1;33m=\u001b[0m \u001b[1;33m[\u001b[0m\u001b[1;33m(\u001b[0m\u001b[1;36m0\u001b[0m\u001b[1;33m,\u001b[0m \u001b[1;36m0\u001b[0m\u001b[1;33m,\u001b[0m \u001b[1;36m1\u001b[0m\u001b[1;33m)\u001b[0m\u001b[1;33m,\u001b[0m \u001b[1;33m(\u001b[0m\u001b[1;36m1\u001b[0m\u001b[1;33m,\u001b[0m \u001b[1;36m0\u001b[0m\u001b[1;33m,\u001b[0m \u001b[1;36m2\u001b[0m\u001b[1;33m)\u001b[0m\u001b[1;33m,\u001b[0m \u001b[1;33m(\u001b[0m\u001b[1;36m0\u001b[0m\u001b[1;33m,\u001b[0m \u001b[1;36m1\u001b[0m\u001b[1;33m,\u001b[0m \u001b[1;36m3\u001b[0m\u001b[1;33m)\u001b[0m\u001b[1;33m]\u001b[0m\u001b[1;33m\u001b[0m\u001b[1;33m\u001b[0m\u001b[0m\n\u001b[1;32m----> 2\u001b[1;33m \u001b[0mlist\u001b[0m\u001b[1;33m(\u001b[0m\u001b[0mzip\u001b[0m\u001b[1;33m(\u001b[0m\u001b[1;33m*\u001b[0m\u001b[0mX\u001b[0m\u001b[1;33m.\u001b[0m\u001b[0msort\u001b[0m\u001b[1;33m(\u001b[0m\u001b[1;33m)\u001b[0m\u001b[1;33m)\u001b[0m\u001b[1;33m)\u001b[0m\u001b[1;33m\u001b[0m\u001b[1;33m\u001b[0m\u001b[0m\n\u001b[0m",
      "\u001b[1;31mTypeError\u001b[0m: type object argument after * must be an iterable, not NoneType"
     ]
    }
   ],
   "source": [
    "X = [(0, 0, 1), (1, 0, 2), (0, 1, 3)]\n",
    "list(zip(*X.sort()))\n"
   ]
  },
  {
   "cell_type": "code",
   "execution_count": 22,
   "metadata": {},
   "outputs": [],
   "source": [
    "ijx_list = [(1, 1, 1), (1, 0, 2), (0, 1, 3)]\n",
    "shape = (2, 2)\n",
    "if len(shape) != 2:\n",
    "    raise TypeError()\n",
    "for ijx in ijx_list:\n",
    "    if len(ijx) != 3 or ijx[0] >= shape[0] or ijx[1] >= shape[1] or \\\n",
    "        ijx[0] < 0 or ijx[1] < 0:\n",
    "        raise TypeError()\n",
    "ijx_list.sort()\n",
    "for i in range(len(ijx_list) - 1):\n",
    "    if ijx_list[i][:2] == ijx_list[i+1][:2]:\n",
    "        raise TypeError()\n"
   ]
  },
  {
   "cell_type": "code",
   "execution_count": 129,
   "metadata": {},
   "outputs": [],
   "source": [
    "# slow version\n",
    "class CooSparseMatrix:\n",
    "\n",
    "    def __init__(self, ijx_list, shape):\n",
    "        if len(shape) != 2:\n",
    "            raise TypeError()\n",
    "        for ijx in ijx_list:\n",
    "            if len(ijx) != 3 or ijx[0] >= shape[0] or \\\n",
    "                    ijx[1] >= shape[1] or ijx[0] < 0 or ijx[1] < 0:\n",
    "                raise TypeError()\n",
    "        ijx_list = [x for x in ijx_list if x[2] != 0]\n",
    "        ijx_list.sort()\n",
    "        for i in range(len(ijx_list) - 1):\n",
    "            if ijx_list[i][:2] == ijx_list[i + 1][:2]:\n",
    "                raise TypeError()\n",
    "        self.ijx_list = ijx_list\n",
    "        self.shape = shape\n",
    "\n",
    "    def __getitem__(self, item):\n",
    "        if isinstance(item, int):\n",
    "            if item >= self.shape[0] or item < 0:\n",
    "                raise TypeError()\n",
    "            ijx_list = [x for x in self.ijx_list if x[0] == item]\n",
    "            return CooSparseMatrix(ijx_list, (1, self.shape[1]))\n",
    "\n",
    "        if len(item) == 2:\n",
    "            if item[0] >= self.shape[0] or item[0] < 0 or \\\n",
    "                    item[1] >= self.shape[1] or item[1] < 0:\n",
    "                raise TypeError()\n",
    "            for ijx in self.ijx_list:\n",
    "                if ijx[0] == item[0] and ijx[1] == item[1]:\n",
    "                    return ijx[2]\n",
    "            return 0\n",
    "        raise TypeError()\n",
    "\n",
    "    def __setitem__(self, key, value):\n",
    "        if key[0] >= self.shape[0] or key[0] < 0 or \\\n",
    "                key[1] >= self.shape[1] or key[1] < 0 or len(key) != 2:\n",
    "            raise TypeError()\n",
    "        new_ijx = (key[0], key[1], value)\n",
    "        left = 0\n",
    "        r = len(self.ijx_list)\n",
    "        while left < r - 1:\n",
    "            mid = (left+r)//2\n",
    "            if new_ijx[:2] <= self.ijx_list[mid]:\n",
    "                r = mid\n",
    "            else:\n",
    "                left = mid\n",
    "        if r == len(self.ijx_list):\n",
    "            self.ijx_list.append(new_ijx)\n",
    "        elif new_ijx[:2] == self.ijx_list[r][:2] and value == 0:\n",
    "            self.ijx_list.pop(r)\n",
    "        elif new_ijx[:2] == self.ijx_list[r][:2] and value != 0:\n",
    "            self.ijx_list[r] = new_ijx\n",
    "        else:\n",
    "            self.ijx_list.insert(r, new_ijx)\n"
   ]
  },
  {
   "cell_type": "code",
   "execution_count": 136,
   "metadata": {},
   "outputs": [
    {
     "name": "stdout",
     "output_type": "stream",
     "text": [
      "0\n",
      "Wall time: 2.16 s\n"
     ]
    }
   ],
   "source": [
    "%%time\n",
    "matrix = CooSparseMatrix([], shape=(10000, 10000))\n",
    "for i in range(1000):\n",
    "    for j in range(1000):\n",
    "        matrix[i, j] = 1\n",
    "        if j >= 1:\n",
    "            matrix[i, j - 1] = 0\n",
    "        \n",
    "print('0')"
   ]
  },
  {
   "cell_type": "code",
   "execution_count": 114,
   "metadata": {},
   "outputs": [
    {
     "name": "stdout",
     "output_type": "stream",
     "text": [
      "0\n",
      "1 0\n",
      "5\n",
      "1 5\n",
      "1 5\n",
      "1 6\n",
      "1 5\n"
     ]
    }
   ],
   "source": [
    "import numpy as np\n",
    "matrix1 = CooSparseMatrix(ijx_list=[(0, 0, 1), (1, 0, 2)], shape=(2, 2))\n",
    "print(matrix1[0, 1])\n",
    "matrix2 = matrix1[0]\n",
    "print(matrix2[0, 0], matrix2[0, 1])\n",
    "matrix1[0, 1] = 5\n",
    "print(matrix1[0, 1])\n",
    "matrix2 = matrix1[0]\n",
    "print(matrix2[0, 0], matrix2[0, 1])\n",
    "matrix3 = matrix2[0]\n",
    "print(matrix3[0, 0], matrix3[0, 1])\n",
    "matrix3[0, 1] = 6\n",
    "print(matrix3[0, 0], matrix3[0, 1])\n",
    "print(matrix2[0, 0], matrix2[0, 1])"
   ]
  },
  {
   "cell_type": "code",
   "execution_count": 81,
   "metadata": {},
   "outputs": [
    {
     "name": "stdout",
     "output_type": "stream",
     "text": [
      "0\n"
     ]
    }
   ],
   "source": [
    "matrix = CooSparseMatrix([], shape=(10000, 10000))\n",
    "for i in range(1000):\n",
    "    for j in range(1000):\n",
    "        matrix[i, j] = 0\n",
    "print('0')"
   ]
  },
  {
   "cell_type": "code",
   "execution_count": 82,
   "metadata": {},
   "outputs": [
    {
     "name": "stdout",
     "output_type": "stream",
     "text": [
      "[(1, 0), (1, 1), (2, 3), (4, 5)]\n"
     ]
    }
   ],
   "source": [
    "import bisect \n",
    "a = [(1, 0), (2, 3), (4, 5)] \n",
    "bisect.insort(a, (1, 1)) \n",
    "print(a) "
   ]
  },
  {
   "cell_type": "code",
   "execution_count": 112,
   "metadata": {},
   "outputs": [
    {
     "name": "stdout",
     "output_type": "stream",
     "text": [
      "3\n"
     ]
    }
   ],
   "source": [
    "ijx_list = [(0, 1, 123), (0, 4), (1, 1, 2), (1, 3, 4)]\n",
    "new_ijx = (1, 2)\n",
    "\n",
    "l = 0\n",
    "r = len(ijx_list)\n",
    "while l < r - 1:\n",
    "    mid = (l+r)//2\n",
    "    if new_ijx[:2] <= ijx_list[mid]:\n",
    "        r = mid\n",
    "    else:\n",
    "        l = mid\n",
    "print (r)"
   ]
  },
  {
   "cell_type": "code",
   "execution_count": 53,
   "metadata": {},
   "outputs": [],
   "source": [
    "#fast version with dict\n",
    "\n",
    "class CooSparseMatrix:\n",
    "\n",
    "    def __init__(self, ijx_list, shape):\n",
    "        if len(shape) != 2:\n",
    "            raise TypeError()\n",
    "        for ijx in ijx_list:\n",
    "            if len(ijx) != 3 or ijx[0] >= shape[0] or \\\n",
    "                    ijx[1] >= shape[1] or ijx[0] < 0 or ijx[1] < 0:\n",
    "                raise TypeError()\n",
    "        ijx_list.sort()\n",
    "        for i in range(len(ijx_list) - 1):\n",
    "            if ijx_list[i][:2] == ijx_list[i + 1][:2]:\n",
    "                raise TypeError()\n",
    "        self.dict = {(x[0], x[1]): x[2] for x in ijx_list if x[2] != 0}\n",
    "        self._shape = shape\n",
    "\n",
    "    def __getitem__(self, item):\n",
    "        if isinstance(item, int):\n",
    "            if item >= self._shape[0] or item < 0:\n",
    "                raise TypeError()\n",
    "            ijx_list = [(item, j, self.dict[(item, j)])\n",
    "                        for j in range(self._shape[1]) if (item, j) in self.dict]\n",
    "            return CooSparseMatrix(ijx_list, (1, self._shape[1]))\n",
    "\n",
    "        if len(item) == 2:\n",
    "            if item[0] >= self._shape[0] or item[0] < 0 or \\\n",
    "                    item[1] >= self._shape[1] or item[1] < 0:\n",
    "                raise TypeError()\n",
    "            if (item[0], item[1]) in self.dict:\n",
    "                return self.dict[(item[0], item[1])]\n",
    "            return 0\n",
    "        raise TypeError()\n",
    "\n",
    "    def __setitem__(self, key, value):\n",
    "        if key[0] >= self._shape[0] or key[0] < 0 or \\\n",
    "                key[1] >= self._shape[1] or key[1] < 0 or len(key) != 2:\n",
    "            raise TypeError()\n",
    "        if value != 0:\n",
    "            self.dict[key] = value\n",
    "        elif key in self.dict:\n",
    "            self.dict.pop(key)\n",
    "\n",
    "    def __add__(self, other):\n",
    "        if self._shape != other._shape:\n",
    "            raise TypeError()\n",
    "        new_dict = self.dict.copy()\n",
    "        for key, value in other.dict.items():\n",
    "            if key in new_dict:\n",
    "                new_dict[key] += value\n",
    "                if new_dict[key] == 0:\n",
    "                    del new_dict[key]\n",
    "            else:\n",
    "                new_dict[key] = value\n",
    "        new_matrix = CooSparseMatrix(ijx_list=[], shape=self._shape)\n",
    "        new_matrix.dict = new_dict\n",
    "        return new_matrix\n",
    "\n",
    "    def __sub__(self, other):\n",
    "        if self._shape != other._shape:\n",
    "            raise TypeError()\n",
    "        new_dict = self.dict.copy()\n",
    "        for key, value in other.dict.items():\n",
    "            if key in new_dict:\n",
    "                new_dict[key] -= value\n",
    "                if new_dict[key] == 0:\n",
    "                    del new_dict[key]\n",
    "            else:\n",
    "                new_dict[key] = -value\n",
    "        new_matrix = CooSparseMatrix(ijx_list=[], shape=self._shape)\n",
    "        new_matrix.dict = new_dict\n",
    "        return new_matrix\n",
    "\n",
    "    def __mul__(self, other):\n",
    "        new_matrix = CooSparseMatrix(ijx_list=[], shape=self._shape)\n",
    "        if other == 0:\n",
    "            return new_matrix\n",
    "        new_dict = self.dict.copy()\n",
    "        for key in new_dict.keys():\n",
    "            new_dict[key] *= other\n",
    "        new_matrix = CooSparseMatrix(ijx_list=[], shape=self._shape)\n",
    "        new_matrix.dict = new_dict\n",
    "        return new_matrix\n",
    "\n",
    "    def __rmul__(self, other):\n",
    "        new_matrix = CooSparseMatrix(ijx_list=[], shape=self._shape)\n",
    "        if other == 0:\n",
    "            return new_matrix\n",
    "        new_dict = self.dict.copy()\n",
    "        for key in new_dict.keys():\n",
    "            new_dict[key] *= other\n",
    "        new_matrix = CooSparseMatrix(ijx_list=[], shape=self._shape)\n",
    "        new_matrix.dict = new_dict\n",
    "        return new_matrix\n",
    "\n",
    "    def set_shape(self, value):\n",
    "        if isinstance(value, tuple) and len(value) == 2 and \\\n",
    "                isinstance(value[0], int) and isinstance(value[1], int) and \\\n",
    "                value[0] > 0 and value[1] > 0 and \\\n",
    "                value[0] * value[1] == self._shape[0] * self._shape[1]:\n",
    "            new_dict = {((key[0] * self._shape[1] + key[1]) // value[1],\n",
    "                         (key[0] * self._shape[1] + key[1]) % value[1]): val\n",
    "                        for key, val in self.dict.items()}\n",
    "            self._shape = value\n",
    "            self.dict = new_dict\n",
    "        else:\n",
    "            raise TypeError()\n",
    "\n",
    "    def get_shape(self):\n",
    "        return self._shape\n",
    "\n",
    "    shape = property(get_shape, set_shape, None, \"no doc\")\n",
    "\n",
    "    def set_T(self, value):\n",
    "        raise TypeError()\n",
    "\n",
    "    def get_T(self):\n",
    "        new_matrix = CooSparseMatrix(ijx_list=[],\n",
    "                                     shape=(self._shape[1], self._shape[0]))\n",
    "        new_dict = {(key[1], key[0]): value for key, value in self.dict.items()}\n",
    "        new_matrix.dict = new_dict\n",
    "        return new_matrix\n",
    "\n",
    "    T = property(get_T, set_T, None, \"no doc\")\n"
   ]
  },
  {
   "cell_type": "code",
   "execution_count": 19,
   "metadata": {},
   "outputs": [
    {
     "name": "stdout",
     "output_type": "stream",
     "text": [
      "0\n",
      "1 0\n",
      "5\n",
      "1 5\n",
      "1 5\n",
      "1 6\n",
      "1 5\n"
     ]
    },
    {
     "data": {
      "text/plain": [
       "[[((0, 0),), (1,)], [((0, 1),), (6,)]]"
      ]
     },
     "execution_count": 19,
     "metadata": {},
     "output_type": "execute_result"
    }
   ],
   "source": [
    "import numpy as np\n",
    "matrix1 = CooSparseMatrix(ijx_list=[(0, 0, 1), (1, 0, 2)], shape=(2, 2))\n",
    "print(matrix1[0, 1])\n",
    "matrix2 = matrix1[0]\n",
    "print(matrix2[0, 0], matrix2[0, 1])\n",
    "matrix1[0, 1] = 5\n",
    "print(matrix1[0, 1])\n",
    "matrix2 = matrix1[0]\n",
    "print(matrix2[0, 0], matrix2[0, 1])\n",
    "matrix3 = matrix2[0]\n",
    "print(matrix3[0, 0], matrix3[0, 1])\n",
    "matrix3[0, 1] = 6\n",
    "print(matrix3[0, 0], matrix3[0, 1])\n",
    "print(matrix2[0, 0], matrix2[0, 1])\n",
    "[list(zip(x)) for x in matrix3.dict.items()]"
   ]
  },
  {
   "cell_type": "code",
   "execution_count": 40,
   "metadata": {},
   "outputs": [
    {
     "name": "stdout",
     "output_type": "stream",
     "text": [
      "{(0, 0): 1, (1, 0): 2}\n",
      "{(0, 0): 1, (0, 1): 2, (1, 0): 1}\n",
      "{(1, 0): 1, (0, 1): -2}\n",
      "{}\n"
     ]
    }
   ],
   "source": [
    "matrix1 = CooSparseMatrix(ijx_list=[(0, 0, 1), (1, 0, 2)], shape=(2, 2))\n",
    "\n",
    "matrix2 = CooSparseMatrix(ijx_list=[(0, 0, 1), (0, 1, 2), (1, 0, 1)], shape=(2, 2))\n",
    "\n",
    "matrix3 = matrix1 - matrix2\n",
    "print(matrix1.dict)\n",
    "print(matrix2.dict)\n",
    "print(matrix3.dict)\n",
    "matrix4 = matrix3 * 0\n",
    "print(matrix4.dict)"
   ]
  },
  {
   "cell_type": "code",
   "execution_count": 56,
   "metadata": {},
   "outputs": [
    {
     "name": "stdout",
     "output_type": "stream",
     "text": [
      "(3, 5)\n"
     ]
    },
    {
     "ename": "TypeError",
     "evalue": "",
     "output_type": "error",
     "traceback": [
      "\u001b[1;31m---------------------------------------------------------------------------\u001b[0m",
      "\u001b[1;31mTypeError\u001b[0m                                 Traceback (most recent call last)",
      "\u001b[1;32m<ipython-input-56-77aa71a64a5d>\u001b[0m in \u001b[0;36m<module>\u001b[1;34m\u001b[0m\n\u001b[0;32m      1\u001b[0m \u001b[0mmatrix\u001b[0m \u001b[1;33m=\u001b[0m \u001b[0mCooSparseMatrix\u001b[0m\u001b[1;33m(\u001b[0m\u001b[0mijx_list\u001b[0m\u001b[1;33m=\u001b[0m\u001b[1;33m[\u001b[0m\u001b[1;33m(\u001b[0m\u001b[1;36m0\u001b[0m\u001b[1;33m,\u001b[0m \u001b[1;36m0\u001b[0m\u001b[1;33m,\u001b[0m \u001b[1;36m1\u001b[0m\u001b[1;33m)\u001b[0m\u001b[1;33m,\u001b[0m \u001b[1;33m(\u001b[0m\u001b[1;36m1\u001b[0m\u001b[1;33m,\u001b[0m \u001b[1;36m1\u001b[0m\u001b[1;33m,\u001b[0m \u001b[1;36m2\u001b[0m\u001b[1;33m)\u001b[0m\u001b[1;33m,\u001b[0m \u001b[1;33m(\u001b[0m\u001b[1;36m2\u001b[0m\u001b[1;33m,\u001b[0m \u001b[1;36m3\u001b[0m\u001b[1;33m,\u001b[0m \u001b[1;36m5\u001b[0m\u001b[1;33m)\u001b[0m\u001b[1;33m,\u001b[0m \u001b[1;33m(\u001b[0m\u001b[1;36m1\u001b[0m\u001b[1;33m,\u001b[0m \u001b[1;36m3\u001b[0m\u001b[1;33m,\u001b[0m \u001b[1;36m0\u001b[0m\u001b[1;33m)\u001b[0m\u001b[1;33m]\u001b[0m\u001b[1;33m,\u001b[0m \u001b[0mshape\u001b[0m\u001b[1;33m=\u001b[0m\u001b[1;33m(\u001b[0m\u001b[1;36m3\u001b[0m\u001b[1;33m,\u001b[0m \u001b[1;36m5\u001b[0m\u001b[1;33m)\u001b[0m\u001b[1;33m)\u001b[0m\u001b[1;33m\u001b[0m\u001b[1;33m\u001b[0m\u001b[0m\n\u001b[0;32m      2\u001b[0m \u001b[0mprint\u001b[0m\u001b[1;33m(\u001b[0m\u001b[0mmatrix\u001b[0m\u001b[1;33m.\u001b[0m\u001b[0mshape\u001b[0m\u001b[1;33m)\u001b[0m\u001b[1;33m\u001b[0m\u001b[1;33m\u001b[0m\u001b[0m\n\u001b[1;32m----> 3\u001b[1;33m \u001b[0mmatrix\u001b[0m\u001b[1;33m.\u001b[0m\u001b[0mshape\u001b[0m \u001b[1;33m=\u001b[0m \u001b[1;33m(\u001b[0m\u001b[1;36m1.0\u001b[0m\u001b[1;33m,\u001b[0m \u001b[1;36m3\u001b[0m\u001b[1;33m)\u001b[0m\u001b[1;33m\u001b[0m\u001b[1;33m\u001b[0m\u001b[0m\n\u001b[0m\u001b[0;32m      4\u001b[0m \u001b[0mprint\u001b[0m\u001b[1;33m(\u001b[0m\u001b[0mmatrix\u001b[0m\u001b[1;33m.\u001b[0m\u001b[0mshape\u001b[0m\u001b[1;33m)\u001b[0m\u001b[1;33m\u001b[0m\u001b[1;33m\u001b[0m\u001b[0m\n\u001b[0;32m      5\u001b[0m \u001b[0mprint\u001b[0m\u001b[1;33m(\u001b[0m\u001b[0mmatrix\u001b[0m\u001b[1;33m.\u001b[0m\u001b[0mdict\u001b[0m\u001b[1;33m)\u001b[0m\u001b[1;33m\u001b[0m\u001b[1;33m\u001b[0m\u001b[0m\n",
      "\u001b[1;32m<ipython-input-53-34a2e5ccbc4c>\u001b[0m in \u001b[0;36mset_shape\u001b[1;34m(self, value)\u001b[0m\n\u001b[0;32m    107\u001b[0m             \u001b[0mself\u001b[0m\u001b[1;33m.\u001b[0m\u001b[0mdict\u001b[0m \u001b[1;33m=\u001b[0m \u001b[0mnew_dict\u001b[0m\u001b[1;33m\u001b[0m\u001b[1;33m\u001b[0m\u001b[0m\n\u001b[0;32m    108\u001b[0m         \u001b[1;32melse\u001b[0m\u001b[1;33m:\u001b[0m\u001b[1;33m\u001b[0m\u001b[1;33m\u001b[0m\u001b[0m\n\u001b[1;32m--> 109\u001b[1;33m             \u001b[1;32mraise\u001b[0m \u001b[0mTypeError\u001b[0m\u001b[1;33m(\u001b[0m\u001b[1;33m)\u001b[0m\u001b[1;33m\u001b[0m\u001b[1;33m\u001b[0m\u001b[0m\n\u001b[0m\u001b[0;32m    110\u001b[0m \u001b[1;33m\u001b[0m\u001b[0m\n\u001b[0;32m    111\u001b[0m     \u001b[1;32mdef\u001b[0m \u001b[0mget_shape\u001b[0m\u001b[1;33m(\u001b[0m\u001b[0mself\u001b[0m\u001b[1;33m)\u001b[0m\u001b[1;33m:\u001b[0m\u001b[1;33m\u001b[0m\u001b[1;33m\u001b[0m\u001b[0m\n",
      "\u001b[1;31mTypeError\u001b[0m: "
     ]
    }
   ],
   "source": [
    "matrix = CooSparseMatrix(ijx_list=[(0, 0, 1), (1, 1, 2), (2, 3, 5), (1, 3, 0)], shape=(3, 5))\n",
    "print(matrix.shape)\n",
    "matrix.shape = (1.0, 3)\n",
    "print(matrix.shape)\n",
    "print(matrix.dict)"
   ]
  },
  {
   "cell_type": "code",
   "execution_count": 31,
   "metadata": {},
   "outputs": [
    {
     "name": "stdout",
     "output_type": "stream",
     "text": [
      "(3, 5)\n",
      "(5, 3)\n",
      "{(0, 0): 1, (1, 1): 2, (2, 3): 5}\n",
      "{(0, 0): 1, (1, 1): 2, (3, 2): 5}\n"
     ]
    }
   ],
   "source": [
    "matrix = CooSparseMatrix(ijx_list=[(0, 0, 1), (1, 1, 2), (2, 3, 5), (1, 3, 0)], shape=(3, 5))\n",
    "matrixT = matrix.T\n",
    "print(matrix.shape)\n",
    "print(matrixT.shape)\n",
    "print(matrix.dict)\n",
    "print(matrixT.dict)"
   ]
  },
  {
   "cell_type": "code",
   "execution_count": 51,
   "metadata": {},
   "outputs": [
    {
     "data": {
      "text/plain": [
       "False"
      ]
     },
     "execution_count": 51,
     "metadata": {},
     "output_type": "execute_result"
    }
   ],
   "source": [
    "isinstance((3,5), ((int, int)))"
   ]
  }
 ],
 "metadata": {
  "kernelspec": {
   "display_name": "Python 3",
   "language": "python",
   "name": "python3"
  },
  "language_info": {
   "codemirror_mode": {
    "name": "ipython",
    "version": 3
   },
   "file_extension": ".py",
   "mimetype": "text/x-python",
   "name": "python",
   "nbconvert_exporter": "python",
   "pygments_lexer": "ipython3",
   "version": "3.7.1"
  }
 },
 "nbformat": 4,
 "nbformat_minor": 2
}
