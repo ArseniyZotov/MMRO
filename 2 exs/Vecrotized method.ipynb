{
 "cells": [
  {
   "cell_type": "code",
   "execution_count": 53,
   "metadata": {},
   "outputs": [],
   "source": [
    "%matplotlib inline\n",
    "import numpy as np\n",
    "import time\n",
    "import matplotlib.pyplot as plt"
   ]
  },
  {
   "cell_type": "code",
   "execution_count": 30,
   "metadata": {},
   "outputs": [],
   "source": [
    "def get_max_before_zero_vectorized(x):\n",
    "    mask = np.roll(x == 0, 1)\n",
    "    mask[0] = False\n",
    "    if x[mask].size:\n",
    "        return x[mask].max()\n",
    "    return None\n"
   ]
  },
  {
   "cell_type": "code",
   "execution_count": 31,
   "metadata": {},
   "outputs": [],
   "source": [
    "def get_max_before_zero_not_vectorized(x):\n",
    "    ans = None\n",
    "    for i in range(1, len(x)):\n",
    "        if x[i - 1] == 0:\n",
    "            if ans:\n",
    "                ans = max(ans, x[i])\n",
    "            else:\n",
    "                ans = x[i]\n",
    "    return ans\n"
   ]
  },
  {
   "cell_type": "code",
   "execution_count": 32,
   "metadata": {},
   "outputs": [],
   "source": [
    "def get_max_before_zero_half_vectorized(x):\n",
    "    mask = np.roll(x == 0, 1)\n",
    "    mask[0] = False\n",
    "    if x[mask].size:\n",
    "        return max(x[mask])\n",
    "    return None\n",
    "            "
   ]
  },
  {
   "cell_type": "code",
   "execution_count": 27,
   "metadata": {},
   "outputs": [],
   "source": [
    "def exec_time(f, x):\n",
    "    start_time = time.time()\n",
    "    f(x)\n",
    "    return (time.time() - start_time)"
   ]
  },
  {
   "cell_type": "code",
   "execution_count": 67,
   "metadata": {},
   "outputs": [
    {
     "data": {
      "text/plain": [
       "Text(0.5, 0, 'Array size (ln(len))')"
      ]
     },
     "execution_count": 67,
     "metadata": {},
     "output_type": "execute_result"
    },
    {
     "data": {
      "image/png": "[encoded data removed]",
      "text/plain": [
       "<Figure size 432x288 with 1 Axes>"
      ]
     },
     "metadata": {
      "needs_background": "light"
     },
     "output_type": "display_data"
    }
   ],
   "source": [
    "a_not_vect = [0, 1]*1000 + [0, 4]*3000 + [0, 2]*6000\n",
    "s = [a_not_vect * (10**i) for i in range(0, 4) ]\n",
    "\n",
    "vect_times = [exec_time(get_max_before_zero_vectorized, np.array(x)) for x in s]\n",
    "\n",
    "not_vect_times = [exec_time(get_max_before_zero_not_vectorized, x) for x in s]\n",
    "\n",
    "half_vect_times = [exec_time(get_max_before_zero_half_vectorized, np.array(x)) for x in s]\n",
    "\n",
    "x = range(4, 8)\n",
    "plt.plot(x, vect_times, label = 'Vect')\n",
    "plt.plot(x, not_vect_times, label = 'Not vect')\n",
    "plt.plot(x, half_vect_times, label = 'Half vect')\n",
    "plt.title(\"Comparison of vectorized and not vectorized methods\")\n",
    "plt.legend()\n",
    "plt.ylabel(\"Execution time (sec)\")\n",
    "plt.xlabel(\"Array size (ln(len))\")"
   ]
  },
  {
   "cell_type": "markdown",
   "metadata": {},
   "source": [
    "На первом месте по скорости находится векторизованный метод, на последнем - полностью не векторизованный.Причем разница на больших данных существенна."
   ]
  }
 ],
 "metadata": {
  "kernelspec": {
   "display_name": "Python 3",
   "language": "python",
   "name": "python3"
  },
  "language_info": {
   "codemirror_mode": {
    "name": "ipython",
    "version": 3
   },
   "file_extension": ".py",
   "mimetype": "text/x-python",
   "name": "python",
   "nbconvert_exporter": "python",
   "pygments_lexer": "ipython3",
   "version": "3.7.1"
  }
 },
 "nbformat": 4,
 "nbformat_minor": 2
}
